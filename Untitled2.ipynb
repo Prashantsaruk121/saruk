{
 "cells": [
  {
   "cell_type": "code",
   "execution_count": 1,
   "id": "8f95eaf1",
   "metadata": {},
   "outputs": [],
   "source": [
    "import pandas as pd\n",
    "pd.plotting.register_matplotlib_converters()\n",
    "import matplotlib.pyplot as plt\n",
    "%matplotlib inline \n",
    "import numpy as np\n",
    "import seaborn as sns"
   ]
  },
  {
   "cell_type": "code",
   "execution_count": 2,
   "id": "eac430dd",
   "metadata": {},
   "outputs": [],
   "source": [
    "df= pd.read_csv(r'C:\\Users\\Lenovo\\Downloads\\prashant.csv')"
   ]
  },
  {
   "cell_type": "code",
   "execution_count": 3,
   "id": "b28a82e8",
   "metadata": {},
   "outputs": [
    {
     "data": {
      "text/html": [
       "<div>\n",
       "<style scoped>\n",
       "    .dataframe tbody tr th:only-of-type {\n",
       "        vertical-align: middle;\n",
       "    }\n",
       "\n",
       "    .dataframe tbody tr th {\n",
       "        vertical-align: top;\n",
       "    }\n",
       "\n",
       "    .dataframe thead th {\n",
       "        text-align: right;\n",
       "    }\n",
       "</style>\n",
       "<table border=\"1\" class=\"dataframe\">\n",
       "  <thead>\n",
       "    <tr style=\"text-align: right;\">\n",
       "      <th></th>\n",
       "      <th>Stn Code</th>\n",
       "      <th>Sampling Date</th>\n",
       "      <th>State</th>\n",
       "      <th>City</th>\n",
       "      <th>Location of Monitoring Station</th>\n",
       "      <th>Agency</th>\n",
       "      <th>Type of Location</th>\n",
       "      <th>SO2</th>\n",
       "      <th>NO2</th>\n",
       "      <th>RSPM/PM10</th>\n",
       "      <th>PM 2.5</th>\n",
       "    </tr>\n",
       "  </thead>\n",
       "  <tbody>\n",
       "    <tr>\n",
       "      <th>0</th>\n",
       "      <td>68</td>\n",
       "      <td>02-01-15</td>\n",
       "      <td>Odisha</td>\n",
       "      <td>Talcher</td>\n",
       "      <td>T.T.P.S.Colony, Talcher</td>\n",
       "      <td>Odisha State Pollution Control Board</td>\n",
       "      <td>Industrial Area</td>\n",
       "      <td>11</td>\n",
       "      <td>24</td>\n",
       "      <td>143</td>\n",
       "      <td>102.0</td>\n",
       "    </tr>\n",
       "    <tr>\n",
       "      <th>1</th>\n",
       "      <td>68</td>\n",
       "      <td>06-01-15</td>\n",
       "      <td>Odisha</td>\n",
       "      <td>Talcher</td>\n",
       "      <td>T.T.P.S.Colony, Talcher</td>\n",
       "      <td>Odisha State Pollution Control Board</td>\n",
       "      <td>Industrial Area</td>\n",
       "      <td>10</td>\n",
       "      <td>23</td>\n",
       "      <td>133</td>\n",
       "      <td>96.0</td>\n",
       "    </tr>\n",
       "    <tr>\n",
       "      <th>2</th>\n",
       "      <td>68</td>\n",
       "      <td>09-01-15</td>\n",
       "      <td>Odisha</td>\n",
       "      <td>Talcher</td>\n",
       "      <td>T.T.P.S.Colony, Talcher</td>\n",
       "      <td>Odisha State Pollution Control Board</td>\n",
       "      <td>Industrial Area</td>\n",
       "      <td>8</td>\n",
       "      <td>25</td>\n",
       "      <td>125</td>\n",
       "      <td>116.0</td>\n",
       "    </tr>\n",
       "    <tr>\n",
       "      <th>3</th>\n",
       "      <td>68</td>\n",
       "      <td>13-01-15</td>\n",
       "      <td>Odisha</td>\n",
       "      <td>Talcher</td>\n",
       "      <td>T.T.P.S.Colony, Talcher</td>\n",
       "      <td>Odisha State Pollution Control Board</td>\n",
       "      <td>Industrial Area</td>\n",
       "      <td>10</td>\n",
       "      <td>25</td>\n",
       "      <td>137</td>\n",
       "      <td>107.0</td>\n",
       "    </tr>\n",
       "    <tr>\n",
       "      <th>4</th>\n",
       "      <td>68</td>\n",
       "      <td>16-01-15</td>\n",
       "      <td>Odisha</td>\n",
       "      <td>Talcher</td>\n",
       "      <td>T.T.P.S.Colony, Talcher</td>\n",
       "      <td>Odisha State Pollution Control Board</td>\n",
       "      <td>Industrial Area</td>\n",
       "      <td>9</td>\n",
       "      <td>26</td>\n",
       "      <td>186</td>\n",
       "      <td>118.0</td>\n",
       "    </tr>\n",
       "    <tr>\n",
       "      <th>...</th>\n",
       "      <td>...</td>\n",
       "      <td>...</td>\n",
       "      <td>...</td>\n",
       "      <td>...</td>\n",
       "      <td>...</td>\n",
       "      <td>...</td>\n",
       "      <td>...</td>\n",
       "      <td>...</td>\n",
       "      <td>...</td>\n",
       "      <td>...</td>\n",
       "      <td>...</td>\n",
       "    </tr>\n",
       "    <tr>\n",
       "      <th>2387</th>\n",
       "      <td>819</td>\n",
       "      <td>15-12-15</td>\n",
       "      <td>Odisha</td>\n",
       "      <td>Kalinga Nagar</td>\n",
       "      <td>Roof of RO OFFICE BUILDING</td>\n",
       "      <td>Odisha State Pollution Control Board</td>\n",
       "      <td>Industrial Area</td>\n",
       "      <td>2</td>\n",
       "      <td>10</td>\n",
       "      <td>92</td>\n",
       "      <td>35.0</td>\n",
       "    </tr>\n",
       "    <tr>\n",
       "      <th>2388</th>\n",
       "      <td>819</td>\n",
       "      <td>17-12-15</td>\n",
       "      <td>Odisha</td>\n",
       "      <td>Kalinga Nagar</td>\n",
       "      <td>Roof of RO OFFICE BUILDING</td>\n",
       "      <td>Odisha State Pollution Control Board</td>\n",
       "      <td>Industrial Area</td>\n",
       "      <td>2</td>\n",
       "      <td>10</td>\n",
       "      <td>99</td>\n",
       "      <td>40.0</td>\n",
       "    </tr>\n",
       "    <tr>\n",
       "      <th>2389</th>\n",
       "      <td>819</td>\n",
       "      <td>22-12-15</td>\n",
       "      <td>Odisha</td>\n",
       "      <td>Kalinga Nagar</td>\n",
       "      <td>Roof of RO OFFICE BUILDING</td>\n",
       "      <td>Odisha State Pollution Control Board</td>\n",
       "      <td>Industrial Area</td>\n",
       "      <td>2</td>\n",
       "      <td>10</td>\n",
       "      <td>90</td>\n",
       "      <td>38.0</td>\n",
       "    </tr>\n",
       "    <tr>\n",
       "      <th>2390</th>\n",
       "      <td>819</td>\n",
       "      <td>26-12-15</td>\n",
       "      <td>Odisha</td>\n",
       "      <td>Kalinga Nagar</td>\n",
       "      <td>Roof of RO OFFICE BUILDING</td>\n",
       "      <td>Odisha State Pollution Control Board</td>\n",
       "      <td>Industrial Area</td>\n",
       "      <td>2</td>\n",
       "      <td>10</td>\n",
       "      <td>97</td>\n",
       "      <td>39.0</td>\n",
       "    </tr>\n",
       "    <tr>\n",
       "      <th>2391</th>\n",
       "      <td>819</td>\n",
       "      <td>29-12-15</td>\n",
       "      <td>Odisha</td>\n",
       "      <td>Kalinga Nagar</td>\n",
       "      <td>Roof of RO OFFICE BUILDING</td>\n",
       "      <td>Odisha State Pollution Control Board</td>\n",
       "      <td>Industrial Area</td>\n",
       "      <td>2</td>\n",
       "      <td>10</td>\n",
       "      <td>98</td>\n",
       "      <td>39.0</td>\n",
       "    </tr>\n",
       "  </tbody>\n",
       "</table>\n",
       "<p>2392 rows × 11 columns</p>\n",
       "</div>"
      ],
      "text/plain": [
       "      Stn Code Sampling Date   State           City  \\\n",
       "0           68      02-01-15  Odisha        Talcher   \n",
       "1           68      06-01-15  Odisha        Talcher   \n",
       "2           68      09-01-15  Odisha        Talcher   \n",
       "3           68      13-01-15  Odisha        Talcher   \n",
       "4           68      16-01-15  Odisha        Talcher   \n",
       "...        ...           ...     ...            ...   \n",
       "2387       819      15-12-15  Odisha  Kalinga Nagar   \n",
       "2388       819      17-12-15  Odisha  Kalinga Nagar   \n",
       "2389       819      22-12-15  Odisha  Kalinga Nagar   \n",
       "2390       819      26-12-15  Odisha  Kalinga Nagar   \n",
       "2391       819      29-12-15  Odisha  Kalinga Nagar   \n",
       "\n",
       "     Location of Monitoring Station                                Agency  \\\n",
       "0           T.T.P.S.Colony, Talcher  Odisha State Pollution Control Board   \n",
       "1           T.T.P.S.Colony, Talcher  Odisha State Pollution Control Board   \n",
       "2           T.T.P.S.Colony, Talcher  Odisha State Pollution Control Board   \n",
       "3           T.T.P.S.Colony, Talcher  Odisha State Pollution Control Board   \n",
       "4           T.T.P.S.Colony, Talcher  Odisha State Pollution Control Board   \n",
       "...                             ...                                   ...   \n",
       "2387     Roof of RO OFFICE BUILDING  Odisha State Pollution Control Board   \n",
       "2388     Roof of RO OFFICE BUILDING  Odisha State Pollution Control Board   \n",
       "2389     Roof of RO OFFICE BUILDING  Odisha State Pollution Control Board   \n",
       "2390     Roof of RO OFFICE BUILDING  Odisha State Pollution Control Board   \n",
       "2391     Roof of RO OFFICE BUILDING  Odisha State Pollution Control Board   \n",
       "\n",
       "     Type of Location  SO2  NO2  RSPM/PM10  PM 2.5  \n",
       "0     Industrial Area   11   24        143   102.0  \n",
       "1     Industrial Area   10   23        133    96.0  \n",
       "2     Industrial Area    8   25        125   116.0  \n",
       "3     Industrial Area   10   25        137   107.0  \n",
       "4     Industrial Area    9   26        186   118.0  \n",
       "...               ...  ...  ...        ...     ...  \n",
       "2387  Industrial Area    2   10         92    35.0  \n",
       "2388  Industrial Area    2   10         99    40.0  \n",
       "2389  Industrial Area    2   10         90    38.0  \n",
       "2390  Industrial Area    2   10         97    39.0  \n",
       "2391  Industrial Area    2   10         98    39.0  \n",
       "\n",
       "[2392 rows x 11 columns]"
      ]
     },
     "execution_count": 3,
     "metadata": {},
     "output_type": "execute_result"
    }
   ],
   "source": [
    "df"
   ]
  },
  {
   "cell_type": "code",
   "execution_count": 4,
   "id": "8108900c",
   "metadata": {},
   "outputs": [
    {
     "data": {
      "text/plain": [
       "<AxesSubplot:>"
      ]
     },
     "execution_count": 4,
     "metadata": {},
     "output_type": "execute_result"
    },
    {
     "data": {
      "image/png": "[encoded data removed]",
      "text/plain": [
       "<Figure size 432x288 with 1 Axes>"
      ]
     },
     "metadata": {
      "needs_background": "light"
     },
     "output_type": "display_data"
    }
   ],
   "source": [
    "sns.lineplot(data=df)"
   ]
  },
  {
   "cell_type": "code",
   "execution_count": 7,
   "id": "0344ea75",
   "metadata": {},
   "outputs": [
    {
     "data": {
      "text/plain": [
       "(array([157.,   0., 399.,  75., 690.,  52.,  76.,   0., 702., 241.]),\n",
       " array([ 68. , 143.1, 218.2, 293.3, 368.4, 443.5, 518.6, 593.7, 668.8,\n",
       "        743.9, 819. ]),\n",
       " <BarContainer object of 10 artists>)"
      ]
     },
     "execution_count": 7,
     "metadata": {},
     "output_type": "execute_result"
    },
    {
     "data": {
      "image/png": "[encoded data removed]",
      "text/plain": [
       "<Figure size 432x288 with 1 Axes>"
      ]
     },
     "metadata": {
      "needs_background": "light"
     },
     "output_type": "display_data"
    }
   ],
   "source": [
    "plt.hist(df['Stn Code'])"
   ]
  },
  {
   "cell_type": "code",
   "execution_count": 11,
   "id": "497ce520",
   "metadata": {},
   "outputs": [
    {
     "data": {
      "text/plain": [
       "<AxesSubplot:xlabel='SO2', ylabel='RSPM/PM10'>"
      ]
     },
     "execution_count": 11,
     "metadata": {},
     "output_type": "execute_result"
    },
    {
     "data": {
      "image/png": "[encoded data removed]",
      "text/plain": [
       "<Figure size 432x288 with 1 Axes>"
      ]
     },
     "metadata": {
      "needs_background": "light"
     },
     "output_type": "display_data"
    }
   ],
   "source": [
    "sns.barplot(x=df['SO2'], y=df['RSPM/PM10'])"
   ]
  },
  {
   "cell_type": "code",
   "execution_count": null,
   "id": "d47da327",
   "metadata": {},
   "outputs": [],
   "source": []
  }
 ],
 "metadata": {
  "kernelspec": {
   "display_name": "Python 3 (ipykernel)",
   "language": "python",
   "name": "python3"
  },
  "language_info": {
   "codemirror_mode": {
    "name": "ipython",
    "version": 3
   },
   "file_extension": ".py",
   "mimetype": "text/x-python",
   "name": "python",
   "nbconvert_exporter": "python",
   "pygments_lexer": "ipython3",
   "version": "3.7.3"
  }
 },
 "nbformat": 4,
 "nbformat_minor": 5
}
